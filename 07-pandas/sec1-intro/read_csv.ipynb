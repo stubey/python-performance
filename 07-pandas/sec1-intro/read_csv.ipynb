{
 "cells": [
  {
   "cell_type": "code",
   "execution_count": 1,
   "id": "495774ca",
   "metadata": {},
   "outputs": [],
   "source": [
    "import os\n",
    "import platform\n",
    "import numpy as np\n",
    "import pandas as pd"
   ]
  },
  {
   "cell_type": "code",
   "execution_count": 2,
   "id": "ede2284f",
   "metadata": {},
   "outputs": [
    {
     "name": "stdout",
     "output_type": "stream",
     "text": [
      "Conda env      = pandas\n",
      "Python version = 3.9.16\n",
      "Pandas version = 2.0.1\n"
     ]
    }
   ],
   "source": [
    "print(f\"Conda env      = {os.environ['CONDA_DEFAULT_ENV']}\")\n",
    "print(f\"Python version = {platform.python_version()}\")\n",
    "print(f\"Pandas version = {pd.__version__}\")"
   ]
  },
  {
   "cell_type": "code",
   "execution_count": null,
   "id": "2146405c",
   "metadata": {},
   "outputs": [],
   "source": []
  },
  {
   "cell_type": "code",
   "execution_count": 3,
   "id": "de3586bb",
   "metadata": {},
   "outputs": [],
   "source": [
    "def profile_header():\n",
    "    print(f\"{'column':21} {'type':>15} {'unique':>8} {'mem_mb':>8}\")\n",
    "    \n",
    "def profile_column(col):\n",
    "        name = col.name\n",
    "        typ = str(col.dtype)\n",
    "        n_unique = len(col.unique())\n",
    "        mem_mb = col.memory_usage(deep=True) // (1024**2)               \n",
    "        print(f\"{name:21} {typ:>15} {n_unique:8} {mem_mb:8}\")    \n",
    "\n",
    "def df_mb(df):\n",
    "    sum = 0\n",
    "    for col in df.columns:\n",
    "        sum += df[col].memory_usage(deep=True)\n",
    "    return sum // (1024**2)\n",
    "        \n",
    "        \n",
    "def profile(df):\n",
    "    print(f\"DF nrows  = {len(df):,}\")      \n",
    "    print(f\"DF memory = {df_mb(df):,} MB\")  \n",
    "    profile_header()    \n",
    "    for col in df.columns:\n",
    "        profile_column(df[col])"
   ]
  },
  {
   "cell_type": "code",
   "execution_count": null,
   "id": "ae193066",
   "metadata": {},
   "outputs": [],
   "source": []
  },
  {
   "cell_type": "code",
   "execution_count": 4,
   "id": "890fe383",
   "metadata": {},
   "outputs": [
    {
     "name": "stdout",
     "output_type": "stream",
     "text": [
      "DF nrows  = 1,000,000\n",
      "DF memory = 320 MB\n",
      "column                           type   unique   mem_mb\n",
      "VendorID                      float64        3        7\n",
      "tpep_pickup_datetime           object   386921       75\n",
      "tpep_dropoff_datetime          object   388189       75\n",
      "passenger_count               float64       11        7\n",
      "trip_distance                 float64     3412        7\n",
      "RatecodeID                    float64        8        7\n",
      "store_and_fwd_flag             object        3       55\n",
      "PULocationID                    int64      251        7\n",
      "DOLocationID                    int64      260        7\n",
      "payment_type                  float64        5        7\n",
      "fare_amount                   float64     1626        7\n",
      "extra                         float64       23        7\n",
      "mta_tax                       float64        5        7\n",
      "tip_amount                    float64     2202        7\n",
      "tolls_amount                  float64      447        7\n",
      "improvement_surcharge         float64        3        7\n",
      "total_amount                  float64     6803        7\n",
      "congestion_surcharge          float64        6        7\n",
      "CPU times: user 1.95 s, sys: 171 ms, total: 2.12 s\n",
      "Wall time: 2.14 s\n"
     ]
    }
   ],
   "source": [
    "%%time\n",
    "\n",
    "# Read uncompressed csv data w/o parsing dates, note the size\n",
    "df0 = pd.read_csv(\"yellow_tripdata_2020-01-1M.csv\")\n",
    "profile(df0)"
   ]
  },
  {
   "cell_type": "code",
   "execution_count": 5,
   "id": "9e2bbe71",
   "metadata": {},
   "outputs": [
    {
     "name": "stdout",
     "output_type": "stream",
     "text": [
      "DF nrows  = 1,000,000\n",
      "DF memory = 334 MB\n",
      "column                           type   unique   mem_mb\n",
      "VendorID                        Int64        3        8\n",
      "tpep_pickup_datetime           string   386921       75\n",
      "tpep_dropoff_datetime          string   388189       75\n",
      "passenger_count                 Int64       11        8\n",
      "trip_distance                 Float64     3412        8\n",
      "RatecodeID                      Int64        8        8\n",
      "store_and_fwd_flag             string        3       55\n",
      "PULocationID                    Int64      251        8\n",
      "DOLocationID                    Int64      260        8\n",
      "payment_type                    Int64        5        8\n",
      "fare_amount                   Float64     1626        8\n",
      "extra                         Float64       23        8\n",
      "mta_tax                       Float64        5        8\n",
      "tip_amount                    Float64     2202        8\n",
      "tolls_amount                  Float64      447        8\n",
      "improvement_surcharge         Float64        3        8\n",
      "total_amount                  Float64     6803        8\n",
      "congestion_surcharge          Float64        6        8\n",
      "CPU times: user 2.17 s, sys: 240 ms, total: 2.41 s\n",
      "Wall time: 2.41 s\n"
     ]
    }
   ],
   "source": [
    "%%time\n",
    "\n",
    "# Read uncompressed csv data w/o parsing dates, note the size\n",
    "# Also, used nullable types\n",
    "df0_1 = pd.read_csv(\n",
    "    \"yellow_tripdata_2020-01-1M.csv\",\n",
    "    dtype_backend=\"numpy_nullable\"\n",
    ")\n",
    "\n",
    "profile(df0_1)"
   ]
  },
  {
   "cell_type": "code",
   "execution_count": 4,
   "id": "71246f08",
   "metadata": {},
   "outputs": [
    {
     "name": "stdout",
     "output_type": "stream",
     "text": [
      "DF nrows  = 1,000,000\n",
      "DF memory = 184 MB\n",
      "column                           type   unique   mem_mb\n",
      "VendorID                      float64        3        7\n",
      "tpep_pickup_datetime   datetime64[ns]   386921        7\n",
      "tpep_dropoff_datetime  datetime64[ns]   388189        7\n",
      "passenger_count               float64       11        7\n",
      "trip_distance                 float64     3412        7\n",
      "RatecodeID                    float64        8        7\n",
      "store_and_fwd_flag             object        3       55\n",
      "PULocationID                    int64      251        7\n",
      "DOLocationID                    int64      260        7\n",
      "payment_type                  float64        5        7\n",
      "fare_amount                   float64     1626        7\n",
      "extra                         float64       23        7\n",
      "mta_tax                       float64        5        7\n",
      "tip_amount                    float64     2202        7\n",
      "tolls_amount                  float64      447        7\n",
      "improvement_surcharge         float64        3        7\n",
      "total_amount                  float64     6803        7\n",
      "congestion_surcharge          float64        6        7\n",
      "CPU times: user 2min 27s, sys: 160 ms, total: 2min 27s\n",
      "Wall time: 2min 27s\n"
     ]
    }
   ],
   "source": [
    "%%time\n",
    "\n",
    "# parse dates so they take up less space (75MB->7MB)- LONG TIME TO CONVERT (2m28s vs 1.8s)\n",
    "df1 = pd.read_csv(\n",
    "    \"yellow_tripdata_2020-01-1M.csv\", \n",
    "     parse_dates=[\n",
    "         'tpep_pickup_datetime', \n",
    "         'tpep_dropoff_datetime'\n",
    "     ], \n",
    "     infer_datetime_format=True\n",
    ")\n",
    "profile(df1)"
   ]
  },
  {
   "cell_type": "code",
   "execution_count": null,
   "id": "b058ca01",
   "metadata": {},
   "outputs": [],
   "source": []
  },
  {
   "cell_type": "code",
   "execution_count": 5,
   "id": "60c26410",
   "metadata": {},
   "outputs": [
    {
     "name": "stdout",
     "output_type": "stream",
     "text": [
      "DF nrows  = 1,000,000\n",
      "DF memory = 320 MB\n",
      "column                           type   unique   mem_mb\n",
      "VendorID                      float64        3        7\n",
      "tpep_pickup_datetime           object   386921       75\n",
      "tpep_dropoff_datetime          object   388189       75\n",
      "passenger_count               float64       11        7\n",
      "trip_distance                 float64     3412        7\n",
      "RatecodeID                    float64        8        7\n",
      "store_and_fwd_flag             object        3       55\n",
      "PULocationID                    int64      251        7\n",
      "DOLocationID                    int64      260        7\n",
      "payment_type                  float64        5        7\n",
      "fare_amount                   float64     1626        7\n",
      "extra                         float64       23        7\n",
      "mta_tax                       float64        5        7\n",
      "tip_amount                    float64     2202        7\n",
      "tolls_amount                  float64      447        7\n",
      "improvement_surcharge         float64        3        7\n",
      "total_amount                  float64     6803        7\n",
      "congestion_surcharge          float64        6        7\n",
      "CPU times: user 2.88 s, sys: 130 ms, total: 3.01 s\n",
      "Wall time: 3.01 s\n"
     ]
    }
   ],
   "source": [
    "%%time\n",
    "\n",
    "# Read compressed data - not converting dates (3s compressed vs 1.8s uncompressed)\n",
    "df2 = pd.read_csv(\"yellow_tripdata_2020-01-1M.csv.xz\")\n",
    "profile(df2)"
   ]
  },
  {
   "cell_type": "code",
   "execution_count": 6,
   "id": "15f53861",
   "metadata": {},
   "outputs": [
    {
     "name": "stdout",
     "output_type": "stream",
     "text": [
      "CPU times: user 2 µs, sys: 1 µs, total: 3 µs\n",
      "Wall time: 4.29 µs\n"
     ]
    }
   ],
   "source": [
    "%%time \n",
    "\n",
    "# Reduce size by converting from object to datetime (also read_csv optiona)\n",
    "# df3 = df2.copy(deep=True)\n",
    "# df3[\"tpep_pickup_datetime\"]  = pd.to_datetime(df3[\"tpep_pickup_datetime\"])\n",
    "# df3[\"tpep_dropoff_datetime\"] = pd.to_datetime(df3[\"tpep_dropoff_datetime\"])\n",
    "# profile(df3)"
   ]
  },
  {
   "cell_type": "code",
   "execution_count": null,
   "id": "c63fe851",
   "metadata": {},
   "outputs": [],
   "source": []
  },
  {
   "cell_type": "code",
   "execution_count": 7,
   "id": "cbc1356e",
   "metadata": {},
   "outputs": [
    {
     "name": "stdout",
     "output_type": "stream",
     "text": [
      "column                           type   unique   mem_mb\n",
      "payment_type                  float64        5        7\n",
      "[ 1.  2.  4.  3. nan]\n",
      "df before = 184 MB\n",
      "payment_type                     Int8        5        1\n",
      "df after = 179 MB\n"
     ]
    }
   ],
   "source": [
    "# Reduce size by converting low cardinality floats (integers w/ Nan's) to nullable integers\n",
    "import numpy as np\n",
    "\n",
    "df4 = df1.copy(deep=True)\n",
    "profile_header()\n",
    "profile_column(df4[\"payment_type\"])\n",
    "print(df4[\"payment_type\"].unique())\n",
    "\n",
    "print(f\"df before = {df_mb(df4):,} MB\")\n",
    "df4[\"payment_type\"] = df4[\"payment_type\"].astype('Int8')\n",
    "profile_column(df4[\"payment_type\"])\n",
    "print(f\"df after = {df_mb(df4):,} MB\")"
   ]
  },
  {
   "cell_type": "code",
   "execution_count": null,
   "id": "6ab4d435",
   "metadata": {},
   "outputs": [],
   "source": []
  },
  {
   "cell_type": "code",
   "execution_count": 11,
   "id": "d7c40186",
   "metadata": {},
   "outputs": [
    {
     "name": "stdout",
     "output_type": "stream",
     "text": [
      "DF nrows  = 6,405,008\n",
      "DF memory = 1,422 MB\n",
      "column                           type   unique   mem_mb\n",
      "VendorID                        Int64        3       54\n",
      "tpep_pickup_datetime   datetime64[ns]  2134342       48\n",
      "tpep_dropoff_datetime  datetime64[ns]  2137286       48\n",
      "passenger_count               Float64       11       54\n",
      "trip_distance                 Float64     5606       54\n",
      "RatecodeID                    Float64        8       54\n",
      "store_and_fwd_flag             string        3      353\n",
      "PULocationID                    Int64      261       54\n",
      "DOLocationID                    Int64      262       54\n",
      "payment_type                    Int64        6       54\n",
      "fare_amount                   Float64     5283       54\n",
      "extra                         Float64       47       54\n",
      "mta_tax                       Float64       11       54\n",
      "tip_amount                    Float64     3626       54\n",
      "tolls_amount                  Float64     1035       54\n",
      "improvement_surcharge         Float64        3       54\n",
      "total_amount                  Float64    12488       54\n",
      "congestion_surcharge          Float64        9       54\n",
      "airport_fee                    object        1      146\n",
      "CPU times: user 5.26 s, sys: 522 ms, total: 5.78 s\n",
      "Wall time: 4.62 s\n"
     ]
    }
   ],
   "source": [
    "%%time\n",
    "\n",
    "# Read parquet - 6.4MRows in 4s, picks up datetime (could specify entire schema)\n",
    "df_pq = pd.read_parquet(\n",
    "    \"yellow_tripdata_2020-01.parquet\", \n",
    "    dtype_backend='numpy_nullable',\n",
    ")\n",
    "profile(df_pq)"
   ]
  },
  {
   "cell_type": "code",
   "execution_count": 15,
   "id": "c2f6115d",
   "metadata": {},
   "outputs": [
    {
     "name": "stdout",
     "output_type": "stream",
     "text": [
      "\n",
      "DF nrows  = 6,405,008\n",
      "DF memory = 940 MB\n",
      "column                           type   unique   mem_mb\n",
      "VendorID                        Int64        3       54\n",
      "tpep_pickup_datetime   datetime64[ns]  2134342       48\n",
      "tpep_dropoff_datetime  datetime64[ns]  2137286       48\n",
      "passenger_count               Float64       11       54\n",
      "trip_distance                 Float64     5606       54\n",
      "RatecodeID                    Float64        8       54\n",
      "store_and_fwd_flag           category        3        6\n",
      "PULocationID                 category      261       12\n",
      "DOLocationID                 category      262       12\n",
      "payment_type                 category        6        6\n",
      "fare_amount                   Float64     5283       54\n",
      "extra                         Float64       47       54\n",
      "mta_tax                       Float64       11       54\n",
      "tip_amount                    Float64     3626       54\n",
      "tolls_amount                  Float64     1035       54\n",
      "improvement_surcharge         Float64        3       54\n",
      "total_amount                  Float64    12488       54\n",
      "congestion_surcharge          Float64        9       54\n",
      "airport_fee                    object        1      146\n",
      "CPU times: user 2.24 s, sys: 20.7 ms, total: 2.26 s\n",
      "Wall time: 2.26 s\n"
     ]
    }
   ],
   "source": [
    "%%time\n",
    "print()\n",
    "df_pq[\"payment_type\"] = df_pq[\"payment_type\"].astype('category')\n",
    "df_pq[\"store_and_fwd_flag\"] = df_pq[\"store_and_fwd_flag\"].astype('category')\n",
    "df_pq[\"PULocationID\"] = df_pq[\"PULocationID\"].astype('category')\n",
    "df_pq[\"DOLocationID\"] = df_pq[\"DOLocationID\"].astype('category')\n",
    "profile(df_pq)"
   ]
  },
  {
   "cell_type": "code",
   "execution_count": 86,
   "id": "aba82af6",
   "metadata": {},
   "outputs": [
    {
     "name": "stdout",
     "output_type": "stream",
     "text": [
      "None\n",
      "<class 'NoneType'>\n"
     ]
    },
    {
     "ename": "SyntaxError",
     "evalue": "invalid syntax (<unknown>, line 1)",
     "output_type": "error",
     "traceback": [
      "Traceback \u001b[0;36m(most recent call last)\u001b[0m:\n",
      "\u001b[0m  File \u001b[1;32m~/anaconda3/envs/pandas/lib/python3.9/site-packages/IPython/core/interactiveshell.py:3505\u001b[0m in \u001b[1;35mrun_code\u001b[0m\n    exec(code_obj, self.user_global_ns, self.user_ns)\u001b[0m\n",
      "\u001b[0m  Cell \u001b[1;32mIn[86], line 22\u001b[0m\n    df_pq.query(\"VendorID > 4 order by VendorID\")\u001b[0m\n",
      "\u001b[0m  File \u001b[1;32m~/anaconda3/envs/pandas/lib/python3.9/site-packages/pandas/core/frame.py:4450\u001b[0m in \u001b[1;35mquery\u001b[0m\n    res = self.eval(expr, **kwargs)\u001b[0m\n",
      "\u001b[0m  File \u001b[1;32m~/anaconda3/envs/pandas/lib/python3.9/site-packages/pandas/core/frame.py:4576\u001b[0m in \u001b[1;35meval\u001b[0m\n    return _eval(expr, inplace=inplace, **kwargs)\u001b[0m\n",
      "\u001b[0m  File \u001b[1;32m~/anaconda3/envs/pandas/lib/python3.9/site-packages/pandas/core/computation/eval.py:336\u001b[0m in \u001b[1;35meval\u001b[0m\n    parsed_expr = Expr(expr, engine=engine, parser=parser, env=env)\u001b[0m\n",
      "\u001b[0m  File \u001b[1;32m~/anaconda3/envs/pandas/lib/python3.9/site-packages/pandas/core/computation/expr.py:809\u001b[0m in \u001b[1;35m__init__\u001b[0m\n    self.terms = self.parse()\u001b[0m\n",
      "\u001b[0m  File \u001b[1;32m~/anaconda3/envs/pandas/lib/python3.9/site-packages/pandas/core/computation/expr.py:828\u001b[0m in \u001b[1;35mparse\u001b[0m\n    return self._visitor.visit(self.expr)\u001b[0m\n",
      "\u001b[0m  File \u001b[1;32m~/anaconda3/envs/pandas/lib/python3.9/site-packages/pandas/core/computation/expr.py:411\u001b[0m in \u001b[1;35mvisit\u001b[0m\n    raise e\u001b[0m\n",
      "\u001b[0m  File \u001b[1;32m~/anaconda3/envs/pandas/lib/python3.9/site-packages/pandas/core/computation/expr.py:407\u001b[0m in \u001b[1;35mvisit\u001b[0m\n    node = ast.fix_missing_locations(ast.parse(clean))\u001b[0m\n",
      "\u001b[0;36m  File \u001b[0;32m~/anaconda3/envs/pandas/lib/python3.9/ast.py:50\u001b[0;36m in \u001b[0;35mparse\u001b[0;36m\n\u001b[0;31m    return compile(source, filename, mode, flags,\u001b[0;36m\n",
      "\u001b[0;36m  File \u001b[0;32m<unknown>:1\u001b[0;36m\u001b[0m\n\u001b[0;31m    VendorID >4 order by VendorID\u001b[0m\n\u001b[0m                ^\u001b[0m\n\u001b[0;31mSyntaxError\u001b[0m\u001b[0;31m:\u001b[0m invalid syntax\n"
     ]
    }
   ],
   "source": [
    "s = df_pq[\"airport_fee\"]\n",
    "# print(s)\n",
    "# print(len(s))\n",
    "\n",
    "print(s[0])\n",
    "print(type(s[0]))\n",
    "s == None\n",
    "\n",
    "def f(x):\n",
    "    print(f\"x = x, {type(x)}\")\n",
    "    return x == None\n",
    "\n",
    "# s2 = s.loc[f]\n",
    "# print(len(s2))\n",
    "\n",
    "# l = list(s)\n",
    "# print(l[0])\n",
    "# print(type(l[0]))\n",
    "\n",
    "# s[:4].apply(f, axis=1)\n",
    "\n",
    "df_pq.query(\"VendorID > 4 order by VendorID\")"
   ]
  },
  {
   "cell_type": "code",
   "execution_count": 26,
   "id": "803b66e7",
   "metadata": {},
   "outputs": [
    {
     "data": {
      "text/plain": [
       "[]"
      ]
     },
     "execution_count": 26,
     "metadata": {},
     "output_type": "execute_result"
    }
   ],
   "source": [
    "list(df_pq[\"airport_fee\"].filter(items=[None]))"
   ]
  },
  {
   "cell_type": "code",
   "execution_count": 33,
   "id": "fff460b4",
   "metadata": {},
   "outputs": [
    {
     "data": {
      "text/plain": [
       "1    7\n",
       "2    7\n",
       "dtype: int64"
      ]
     },
     "execution_count": 33,
     "metadata": {},
     "output_type": "execute_result"
    }
   ],
   "source": [
    "data = pd.Series([4, 7, 7, 12, 19, 23, 25, 30])\n",
    "data.loc[lambda x : x == 7]"
   ]
  },
  {
   "cell_type": "code",
   "execution_count": null,
   "id": "764cdd70",
   "metadata": {},
   "outputs": [],
   "source": []
  }
 ],
 "metadata": {
  "kernelspec": {
   "display_name": "Python [conda env:pandas]",
   "language": "python",
   "name": "conda-env-pandas-py"
  },
  "language_info": {
   "codemirror_mode": {
    "name": "ipython",
    "version": 3
   },
   "file_extension": ".py",
   "mimetype": "text/x-python",
   "name": "python",
   "nbconvert_exporter": "python",
   "pygments_lexer": "ipython3",
   "version": "3.9.16"
  }
 },
 "nbformat": 4,
 "nbformat_minor": 5
}
