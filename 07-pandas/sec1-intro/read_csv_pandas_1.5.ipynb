{
 "cells": [
  {
   "cell_type": "code",
   "execution_count": null,
   "id": "495774ca",
   "metadata": {},
   "outputs": [],
   "source": [
    "import os\n",
    "import platform\n",
    "import numpy as np\n",
    "import pandas as pd"
   ]
  },
  {
   "cell_type": "code",
   "execution_count": null,
   "id": "df5daf8d",
   "metadata": {},
   "outputs": [],
   "source": [
    "print(f\"Conda env      = {os.environ['CONDA_DEFAULT_ENV']}\")\n",
    "print(f\"Python version = {platform.python_version()}\")\n",
    "print(f\"Pandas version = {pd.__version__}\")"
   ]
  },
  {
   "cell_type": "code",
   "execution_count": null,
   "id": "1b78e416",
   "metadata": {},
   "outputs": [],
   "source": []
  },
  {
   "cell_type": "code",
   "execution_count": null,
   "id": "de3586bb",
   "metadata": {},
   "outputs": [],
   "source": [
    "def profile_header():\n",
    "    print(f\"{'column':21} {'type':>15} {'unique':>8} {'mem_mb':>8}\")\n",
    "    \n",
    "def profile_column(col):\n",
    "        name = col.name\n",
    "        typ = str(col.dtype)\n",
    "        n_unique = len(col.unique())\n",
    "        mem_mb = col.memory_usage(deep=True) // (1024**2)               \n",
    "        print(f\"{name:21} {typ:>15} {n_unique:8} {mem_mb:8}\")    \n",
    "\n",
    "def df_mb(df):\n",
    "    sum = 0\n",
    "    for col in df.columns:\n",
    "        sum += df[col].memory_usage(deep=True)\n",
    "    return sum // (1024**2)\n",
    "        \n",
    "        \n",
    "def profile(df):\n",
    "    print(f\"DF nrows  = {len(df):,}\")      \n",
    "    print(f\"DF memory = {df_mb(df):,} MB\")  \n",
    "    profile_header()    \n",
    "    for col in df.columns:\n",
    "        profile_column(df[col])"
   ]
  },
  {
   "cell_type": "code",
   "execution_count": null,
   "id": "62ec9617",
   "metadata": {},
   "outputs": [],
   "source": []
  },
  {
   "cell_type": "code",
   "execution_count": 3,
   "id": "890fe383",
   "metadata": {},
   "outputs": [
    {
     "name": "stdout",
     "output_type": "stream",
     "text": [
      "DF nrows  = 1,000,000\n",
      "DF memory = 320 MB\n",
      "column                           type   unique   mem_mb\n",
      "VendorID                      float64        3        7\n",
      "tpep_pickup_datetime           object   386921       75\n",
      "tpep_dropoff_datetime          object   388189       75\n",
      "passenger_count               float64       11        7\n",
      "trip_distance                 float64     3412        7\n",
      "RatecodeID                    float64        8        7\n",
      "store_and_fwd_flag             object        3       55\n",
      "PULocationID                    int64      251        7\n",
      "DOLocationID                    int64      260        7\n",
      "payment_type                  float64        5        7\n",
      "fare_amount                   float64     1626        7\n",
      "extra                         float64       23        7\n",
      "mta_tax                       float64        5        7\n",
      "tip_amount                    float64     2202        7\n",
      "tolls_amount                  float64      447        7\n",
      "improvement_surcharge         float64        3        7\n",
      "total_amount                  float64     6803        7\n",
      "congestion_surcharge          float64        6        7\n",
      "CPU times: user 2.02 s, sys: 486 ms, total: 2.51 s\n",
      "Wall time: 2.51 s\n"
     ]
    }
   ],
   "source": [
    "%%time\n",
    "\n",
    "# Read uncompressed csv data w/o parsing dates, note the size\n",
    "df0 = pd.read_csv(\"yellow_tripdata_2020-01-1M.csv\")\n",
    "profile(df0)"
   ]
  },
  {
   "cell_type": "code",
   "execution_count": 4,
   "id": "71246f08",
   "metadata": {},
   "outputs": [
    {
     "name": "stdout",
     "output_type": "stream",
     "text": [
      "DF nrows  = 1,000,000\n",
      "DF memory = 184 MB\n",
      "column                           type   unique   mem_mb\n",
      "VendorID                      float64        3        7\n",
      "tpep_pickup_datetime   datetime64[ns]   386921        7\n",
      "tpep_dropoff_datetime  datetime64[ns]   388189        7\n",
      "passenger_count               float64       11        7\n",
      "trip_distance                 float64     3412        7\n",
      "RatecodeID                    float64        8        7\n",
      "store_and_fwd_flag             object        3       55\n",
      "PULocationID                    int64      251        7\n",
      "DOLocationID                    int64      260        7\n",
      "payment_type                  float64        5        7\n",
      "fare_amount                   float64     1626        7\n",
      "extra                         float64       23        7\n",
      "mta_tax                       float64        5        7\n",
      "tip_amount                    float64     2202        7\n",
      "tolls_amount                  float64      447        7\n",
      "improvement_surcharge         float64        3        7\n",
      "total_amount                  float64     6803        7\n",
      "congestion_surcharge          float64        6        7\n",
      "CPU times: user 2min 27s, sys: 160 ms, total: 2min 27s\n",
      "Wall time: 2min 27s\n"
     ]
    }
   ],
   "source": [
    "%%time\n",
    "\n",
    "# parse dates so they take up less space (75MB->7MB)- LONG TIME TO CONVERT (2m28s vs 1.8s)\n",
    "df1 = pd.read_csv(\n",
    "    \"yellow_tripdata_2020-01-1M.csv\", \n",
    "     parse_dates=[\n",
    "         'tpep_pickup_datetime', \n",
    "         'tpep_dropoff_datetime'\n",
    "     ], \n",
    "     infer_datetime_format=True\n",
    ")\n",
    "profile(df1)"
   ]
  },
  {
   "cell_type": "code",
   "execution_count": null,
   "id": "b058ca01",
   "metadata": {},
   "outputs": [],
   "source": []
  },
  {
   "cell_type": "code",
   "execution_count": 5,
   "id": "60c26410",
   "metadata": {},
   "outputs": [
    {
     "name": "stdout",
     "output_type": "stream",
     "text": [
      "DF nrows  = 1,000,000\n",
      "DF memory = 320 MB\n",
      "column                           type   unique   mem_mb\n",
      "VendorID                      float64        3        7\n",
      "tpep_pickup_datetime           object   386921       75\n",
      "tpep_dropoff_datetime          object   388189       75\n",
      "passenger_count               float64       11        7\n",
      "trip_distance                 float64     3412        7\n",
      "RatecodeID                    float64        8        7\n",
      "store_and_fwd_flag             object        3       55\n",
      "PULocationID                    int64      251        7\n",
      "DOLocationID                    int64      260        7\n",
      "payment_type                  float64        5        7\n",
      "fare_amount                   float64     1626        7\n",
      "extra                         float64       23        7\n",
      "mta_tax                       float64        5        7\n",
      "tip_amount                    float64     2202        7\n",
      "tolls_amount                  float64      447        7\n",
      "improvement_surcharge         float64        3        7\n",
      "total_amount                  float64     6803        7\n",
      "congestion_surcharge          float64        6        7\n",
      "CPU times: user 2.88 s, sys: 130 ms, total: 3.01 s\n",
      "Wall time: 3.01 s\n"
     ]
    }
   ],
   "source": [
    "%%time\n",
    "\n",
    "# Read compressed data - not converting dates (3s compressed vs 1.8s uncompressed)\n",
    "df2 = pd.read_csv(\"yellow_tripdata_2020-01-1M.csv.xz\")\n",
    "profile(df2)"
   ]
  },
  {
   "cell_type": "code",
   "execution_count": 6,
   "id": "15f53861",
   "metadata": {},
   "outputs": [
    {
     "name": "stdout",
     "output_type": "stream",
     "text": [
      "CPU times: user 2 µs, sys: 1 µs, total: 3 µs\n",
      "Wall time: 4.29 µs\n"
     ]
    }
   ],
   "source": [
    "%%time \n",
    "\n",
    "# Reduce size by converting from object to datetime (also read_csv optiona)\n",
    "# df3 = df2.copy(deep=True)\n",
    "# df3[\"tpep_pickup_datetime\"]  = pd.to_datetime(df3[\"tpep_pickup_datetime\"])\n",
    "# df3[\"tpep_dropoff_datetime\"] = pd.to_datetime(df3[\"tpep_dropoff_datetime\"])\n",
    "# profile(df3)"
   ]
  },
  {
   "cell_type": "code",
   "execution_count": null,
   "id": "c63fe851",
   "metadata": {},
   "outputs": [],
   "source": []
  },
  {
   "cell_type": "code",
   "execution_count": 7,
   "id": "cbc1356e",
   "metadata": {},
   "outputs": [
    {
     "name": "stdout",
     "output_type": "stream",
     "text": [
      "column                           type   unique   mem_mb\n",
      "payment_type                  float64        5        7\n",
      "[ 1.  2.  4.  3. nan]\n",
      "df before = 184 MB\n",
      "payment_type                     Int8        5        1\n",
      "df after = 179 MB\n"
     ]
    }
   ],
   "source": [
    "# Reduce size by converting low cardinality floats (integers w/ Nan's) to nullable integers\n",
    "import numpy as np\n",
    "\n",
    "df4 = df1.copy(deep=True)\n",
    "profile_header()\n",
    "profile_column(df4[\"payment_type\"])\n",
    "print(df4[\"payment_type\"].unique())\n",
    "\n",
    "print(f\"df before = {df_mb(df4):,} MB\")\n",
    "df4[\"payment_type\"] = df4[\"payment_type\"].astype('Int8')\n",
    "profile_column(df4[\"payment_type\"])\n",
    "print(f\"df after = {df_mb(df4):,} MB\")"
   ]
  },
  {
   "cell_type": "code",
   "execution_count": null,
   "id": "6ab4d435",
   "metadata": {},
   "outputs": [],
   "source": []
  },
  {
   "cell_type": "code",
   "execution_count": 13,
   "id": "d7c40186",
   "metadata": {},
   "outputs": [
    {
     "name": "stdout",
     "output_type": "stream",
     "text": [
      "DF nrows  = 6,405,008\n",
      "DF memory = 1,286 MB\n",
      "column                           type   unique   mem_mb\n",
      "VendorID                        int64        3       48\n",
      "tpep_pickup_datetime   datetime64[ns]  2134342       48\n",
      "tpep_dropoff_datetime  datetime64[ns]  2137286       48\n",
      "passenger_count               float64       11       48\n",
      "trip_distance                 float64     5606       48\n",
      "RatecodeID                    float64        8       48\n",
      "store_and_fwd_flag             object        3      352\n",
      "PULocationID                    int64      261       48\n",
      "DOLocationID                    int64      262       48\n",
      "payment_type                 category        6        6\n",
      "fare_amount                   float64     5283       48\n",
      "extra                         float64       47       48\n",
      "mta_tax                       float64       11       48\n",
      "tip_amount                    float64     3626       48\n",
      "tolls_amount                  float64     1035       48\n",
      "improvement_surcharge         float64        3       48\n",
      "total_amount                  float64    12488       48\n",
      "congestion_surcharge          float64        9       48\n",
      "airport_fee                    object        1      146\n",
      "CPU times: user 4.72 s, sys: 2.6 s, total: 7.32 s\n",
      "Wall time: 4.08 s\n"
     ]
    }
   ],
   "source": [
    "%%time\n",
    "\n",
    "# Read parquet - 6.4MRows in 4s, picks up datetime (could specify entire schema)\n",
    "df_pq = pd.read_parquet(\n",
    "    \"yellow_tripdata_2020-01.parquet\", \n",
    "    use_nullable_dtypes=True,\n",
    "    dtypes=[\"payment_type\" ],\n",
    ")\n",
    "#df_pq[\"payment_type\"] = df_pq[\"payment_type\"].astype('category')\n",
    "profile(df_pq)"
   ]
  },
  {
   "cell_type": "code",
   "execution_count": null,
   "id": "aba82af6",
   "metadata": {},
   "outputs": [],
   "source": []
  },
  {
   "cell_type": "code",
   "execution_count": null,
   "id": "803b66e7",
   "metadata": {},
   "outputs": [],
   "source": []
  },
  {
   "cell_type": "code",
   "execution_count": null,
   "id": "fff460b4",
   "metadata": {},
   "outputs": [],
   "source": []
  }
 ],
 "metadata": {
  "kernelspec": {
   "display_name": "Python [conda env:dash]",
   "language": "python",
   "name": "conda-env-dash-py"
  },
  "language_info": {
   "codemirror_mode": {
    "name": "ipython",
    "version": 3
   },
   "file_extension": ".py",
   "mimetype": "text/x-python",
   "name": "python",
   "nbconvert_exporter": "python",
   "pygments_lexer": "ipython3",
   "version": "3.9.15"
  }
 },
 "nbformat": 4,
 "nbformat_minor": 5
}
